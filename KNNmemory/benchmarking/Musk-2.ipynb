{
 "cells": [
  {
   "cell_type": "code",
   "execution_count": 1,
   "metadata": {},
   "outputs": [
    {
     "name": "stderr",
     "output_type": "stream",
     "text": [
      "WARNING: import of Adapt.adapt into FluxExtensions conflicts with an existing identifier; ignored.\n"
     ]
    }
   ],
   "source": [
    "using Flux, Flux.Data.MNIST\n",
    "using Flux: onehotbatch, argmax, crossentropy, throttle\n",
    "using Base.Iterators: repeated\n",
    "using FluxExtensions\n",
    "using MLBase: roc, correctrate, precision, recall, f1score, false_positive_rate, false_negative_rate\n",
    "\n",
    "push!(LOAD_PATH, \"../\", \"/home/jan/dev/anomaly detection/anomaly_detection/src\")\n",
    "using KNNmem\n",
    "using AnomalyDetection\n",
    "\n",
    "include(\"../train_and_track.jl\");"
   ]
  },
  {
   "cell_type": "code",
   "execution_count": 2,
   "metadata": {},
   "outputs": [
    {
     "data": {
      "text/plain": [
       "166"
      ]
     },
     "execution_count": 2,
     "metadata": {},
     "output_type": "execute_result"
    }
   ],
   "source": [
    "# Prepare data\n",
    "\n",
    "dataPath = \"/home/jan/dev/data/loda/public/datasets/numerical\"\n",
    "allData = AnomalyDetection.loaddata(dataPath)\n",
    "\n",
    "dataset = allData[\"musk-2\"]\n",
    "train, test, clusterdness = AnomalyDetection.makeset(dataset, 0.9, \"normal\", 0.05, \"high\")\n",
    "inputSize = size(train.data, 1)"
   ]
  },
  {
   "cell_type": "code",
   "execution_count": 3,
   "metadata": {},
   "outputs": [
    {
     "data": {
      "text/plain": [
       "Chain(ResDense(Dense(32, 32, NNlib.relu)), ResDense(Dense(2, 2, NNlib.relu)), NNlib.softmax)"
      ]
     },
     "execution_count": 3,
     "metadata": {},
     "output_type": "execute_result"
    }
   ],
   "source": [
    "# Model with memory\n",
    "\n",
    "memoryModel = Chain(\n",
    "  FluxExtensions.ResDense(inputSize, 32, relu),\n",
    "  FluxExtensions.ResDense(32, 2, relu))\n",
    "\n",
    "memory = KNNmemory(200, 2, 64, 10)\n",
    "\n",
    "# Model without memory\n",
    "\n",
    "classicModel = Chain(\n",
    "  FluxExtensions.ResDense(inputSize, 32, relu),\n",
    "  FluxExtensions.ResDense(32, 2, relu),\n",
    "  softmax)"
   ]
  },
  {
   "cell_type": "code",
   "execution_count": 4,
   "metadata": {},
   "outputs": [
    {
     "data": {
      "text/plain": [
       "100"
      ]
     },
     "execution_count": 4,
     "metadata": {},
     "output_type": "execute_result"
    }
   ],
   "source": [
    "# Training setup\n",
    "\n",
    "memLoss(x, y) = trainQuery!(memory, memoryModel(x), y)\n",
    "memOpt = ADAM(params(memoryModel))\n",
    "\n",
    "classicLoss(x, y) = crossentropy(classicModel(x), y)\n",
    "classicOpt = ADAM(params(classicModel))\n",
    "\n",
    "iterations = 1000\n",
    "batchSize = 1000\n",
    "printInterationCount = 100"
   ]
  },
  {
   "cell_type": "code",
   "execution_count": null,
   "metadata": {},
   "outputs": [
    {
     "name": "stdout",
     "output_type": "stream",
     "text": [
      "0.028149275689503542\n",
      "0.020556273892021013\n",
      "0.010231584658253252\n",
      "0.009510983329244459\n",
      "0.011999340265208764\n",
      "0."
     ]
    }
   ],
   "source": [
    "memHistory = trainAndTrack!(memLoss, memOpt, iterations, batchSize, train.data, train.labels, test.data, test.labels, printInterationCount)\n",
    "classicHistory = trainAndTrack!(classicLoss, classicOpt, iterations, batchSize, train.data, Flux.onehotbatch(train.labels, 0:1), test.data, Flux.onehotbatch(test.labels, 0:1), printInterationCount)"
   ]
  },
  {
   "cell_type": "code",
   "execution_count": null,
   "metadata": {},
   "outputs": [],
   "source": [
    "# Plot training\n",
    "\n",
    "using Plots\n",
    "pyplot()\n",
    "\n",
    "plot(memHistory)\n",
    "plot!(title = \"Training with memory\")"
   ]
  },
  {
   "cell_type": "code",
   "execution_count": null,
   "metadata": {},
   "outputs": [],
   "source": [
    "plot(classicHistory)\n",
    "plot!(title = \"Training without memory\")abalone"
   ]
  },
  {
   "cell_type": "code",
   "execution_count": null,
   "metadata": {},
   "outputs": [],
   "source": [
    "# ROC with memory\n",
    "\n",
    "rocData = roc(test.labels, query(memory, memoryModel(test.data)))\n",
    "print(rocData)\n",
    "print(\"precision: $(precision(rocData))\\n\")\n",
    "print(\"f1score: $(f1score(rocData))\\n\")\n",
    "print(\"recall: $(recall(rocData))\\n\")\n",
    "print(\"false positive rate: $(false_positive_rate(rocData))\\n\")\n",
    "print(\"equal error rate: $((false_positive_rate(rocData) + false_negative_rate(rocData))/2)\\n\")"
   ]
  },
  {
   "cell_type": "code",
   "execution_count": null,
   "metadata": {},
   "outputs": [],
   "source": [
    "# ROC without memory\n",
    "\n",
    "rocData = roc(test.labels, argmax(classicModel(test.data)))\n",
    "print(rocData)\n",
    "print(\"precision: $(precision(rocData))\\n\")\n",
    "print(\"f1score: $(f1score(rocData))\\n\")\n",
    "print(\"recall: $(recall(rocData))\\n\")\n",
    "print(\"false positive rate: $(false_positive_rate(rocData))\\n\")\n",
    "print(\"equal error rate: $((false_positive_rate(rocData) + false_negative_rate(rocData))/2)\\n\")"
   ]
  }
 ],
 "metadata": {
  "kernelspec": {
   "display_name": "Julia 0.6.2",
   "language": "julia",
   "name": "julia-0.6"
  },
  "language_info": {
   "file_extension": ".jl",
   "mimetype": "application/julia",
   "name": "julia",
   "version": "0.6.2"
  }
 },
 "nbformat": 4,
 "nbformat_minor": 2
}

{
 "cells": [
  {
   "cell_type": "code",
   "execution_count": 1,
   "metadata": {},
   "outputs": [
    {
     "name": "stderr",
     "output_type": "stream",
     "text": [
      "WARNING: import of Adapt.adapt into FluxExtensions conflicts with an existing identifier; ignored.\n"
     ]
    }
   ],
   "source": [
    "using Flux, Flux.Data.MNIST\n",
    "using Flux: onehotbatch, argmax, crossentropy, throttle\n",
    "using Base.Iterators: repeated\n",
    "using FluxExtensions\n",
    "\n",
    "push!(LOAD_PATH, \"../\")\n",
    "using KNNmem\n",
    "\n",
    "include(\"../train_and_track.jl\");"
   ]
  },
  {
   "cell_type": "code",
   "execution_count": 2,
   "metadata": {},
   "outputs": [
    {
     "data": {
      "text/plain": [
       "10×10000 Flux.OneHotMatrix{Array{Flux.OneHotVector,1}}:\n",
       " false  false  false   true  false  …  false  false  false  false  false\n",
       " false  false   true  false  false     false  false  false  false  false\n",
       " false   true  false  false  false      true  false  false  false  false\n",
       " false  false  false  false  false     false   true  false  false  false\n",
       " false  false  false  false   true     false  false   true  false  false\n",
       " false  false  false  false  false  …  false  false  false   true  false\n",
       " false  false  false  false  false     false  false  false  false   true\n",
       "  true  false  false  false  false     false  false  false  false  false\n",
       " false  false  false  false  false     false  false  false  false  false\n",
       " false  false  false  false  false     false  false  false  false  false"
      ]
     },
     "execution_count": 2,
     "metadata": {},
     "output_type": "execute_result"
    }
   ],
   "source": [
    "# Prepare data\n",
    "\n",
    "imgs = MNIST.images()\n",
    "X = hcat(float.(reshape.(imgs, :))...)\n",
    "\n",
    "labels = MNIST.labels()\n",
    "Y = labels\n",
    "oneHotY = Flux.onehotbatch(Y, 0:9) # for softmax\n",
    "\n",
    "tX = hcat(float.(reshape.(MNIST.images(:test), :))...)\n",
    "tY = MNIST.labels(:test)\n",
    "oneHotTY = Flux.onehotbatch(tY, 0:9)"
   ]
  },
  {
   "cell_type": "code",
   "execution_count": 3,
   "metadata": {},
   "outputs": [
    {
     "data": {
      "text/plain": [
       "Chain(ResDense(Dense(32, 32, NNlib.relu)), ResDense(Dense(10, 10, NNlib.relu)), NNlib.softmax)"
      ]
     },
     "execution_count": 3,
     "metadata": {},
     "output_type": "execute_result"
    }
   ],
   "source": [
    "# Model with memory\n",
    "\n",
    "memoryModel = Chain(\n",
    "  FluxExtensions.ResDense(28^2, 32, relu),\n",
    "  FluxExtensions.ResDense(32, 10, relu))\n",
    "\n",
    "memory = KNNmemory(1000, 10, 128, 10)\n",
    "\n",
    "# Model without memory\n",
    "\n",
    "classicModel = Chain(\n",
    "  FluxExtensions.ResDense(28^2, 32, relu),\n",
    "  FluxExtensions.ResDense(32, 10, relu),\n",
    "  softmax)"
   ]
  },
  {
   "cell_type": "code",
   "execution_count": 4,
   "metadata": {},
   "outputs": [
    {
     "data": {
      "text/plain": [
       "100"
      ]
     },
     "execution_count": 4,
     "metadata": {},
     "output_type": "execute_result"
    }
   ],
   "source": [
    "# Training setup\n",
    "\n",
    "memLoss(x, y) = trainQuery!(memory, memoryModel(x), y)\n",
    "memAccuracy(x, y) = mean(query(memory, memoryModel(x)) .== y)\n",
    "memOpt = ADAM(params(memoryModel))\n",
    "\n",
    "classicLoss(x, y) = crossentropy(classicModel(x), y)\n",
    "classicAccuracy(x, y) = mean(argmax(classicModel(x)) .== argmax(y))\n",
    "classicOpt = ADAM(params(classicModel))\n",
    "\n",
    "iterations = 1000\n",
    "batchSize = 1000\n",
    "printInterationCount = 100\n",
    "\n"
   ]
  },
  {
   "cell_type": "code",
   "execution_count": 5,
   "metadata": {},
   "outputs": [
    {
     "name": "stdout",
     "output_type": "stream",
     "text": [
      "0.0433628693266239\n",
      "0.03399620687596651\n",
      "0.03632697063285509\n",
      "0.028338751574478602\n",
      "0.030996345054894806\n",
      "0.030220966577388885\n",
      "0.030136695782679305\n",
      "0.03259546637940615\n",
      "0.03045977955839616\n",
      "0.03128173728249803\n",
      "0.35387565001329224\n",
      "0.22624775599016608\n",
      "0.18536815937872914\n",
      "0.17969983647004836\n",
      "0.17063822382004382\n",
      "0.14934246548752775\n",
      "0.11851145379384029\n",
      "0.11131496584196372\n",
      "0.136947284668892\n",
      "0.0948754076720888\n"
     ]
    },
    {
     "data": {
      "text/plain": [
       "MVHistory{ValueHistories.History}\n",
       "  :performance => 10 elements {Int64,Float64}\n",
       "  :trainLoss => 10 elements {Int64,Float64}"
      ]
     },
     "execution_count": 5,
     "metadata": {},
     "output_type": "execute_result"
    }
   ],
   "source": [
    "# Training\n",
    "\n",
    "memHistory = trainAndTrack!(memLoss, memAccuracy, memOpt, iterations, batchSize, X, Y, tX, tY, printInterationCount)\n",
    "classicHistory = trainAndTrack!(classicLoss, classicAccuracy, classicOpt, iterations, batchSize, X, oneHotY, tX, oneHotTY, printInterationCount)"
   ]
  },
  {
   "cell_type": "code",
   "execution_count": 6,
   "metadata": {},
   "outputs": [
    {
     "data": {
      "text/plain": [
       "0.9166"
      ]
     },
     "execution_count": 6,
     "metadata": {},
     "output_type": "execute_result"
    }
   ],
   "source": [
    "# Accuracy comparison\n",
    "\n",
    "memAccuracy(tX, tY)"
   ]
  },
  {
   "cell_type": "code",
   "execution_count": 7,
   "metadata": {},
   "outputs": [
    {
     "data": {
      "text/plain": [
       "0.9601"
      ]
     },
     "execution_count": 7,
     "metadata": {},
     "output_type": "execute_result"
    }
   ],
   "source": [
    "classicAccuracy(tX, oneHotTY)"
   ]
  },
  {
   "cell_type": "code",
   "execution_count": 8,
   "metadata": {},
   "outputs": [
    {
     "data": {
      "image/png": "[encoded data removed]"
     },
     "execution_count": 8,
     "metadata": {},
     "output_type": "execute_result"
    }
   ],
   "source": [
    "# Plot training\n",
    "\n",
    "using Plots\n",
    "pyplot()\n",
    "\n",
    "plot(memHistory)\n",
    "plot!(title = \"Training with memory\")"
   ]
  },
  {
   "cell_type": "code",
   "execution_count": 9,
   "metadata": {},
   "outputs": [
    {
     "data": {
      "image/png": "[encoded data removed]"
     },
     "execution_count": 9,
     "metadata": {},
     "output_type": "execute_result"
    }
   ],
   "source": [
    "plot(classicHistory)\n",
    "plot!(title = \"Training without memory\")"
   ]
  },
  {
   "cell_type": "code",
   "execution_count": null,
   "metadata": {},
   "outputs": [],
   "source": []
  },
  {
   "cell_type": "code",
   "execution_count": null,
   "metadata": {},
   "outputs": [],
   "source": []
  }
 ],
 "metadata": {
  "kernelspec": {
   "display_name": "Julia 0.6.2",
   "language": "julia",
   "name": "julia-0.6"
  },
  "language_info": {
   "file_extension": ".jl",
   "mimetype": "application/julia",
   "name": "julia",
   "version": "0.6.2"
  }
 },
 "nbformat": 4,
 "nbformat_minor": 2
}

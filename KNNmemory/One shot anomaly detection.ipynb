{
 "cells": [
  {
   "cell_type": "code",
   "execution_count": null,
   "metadata": {},
   "outputs": [],
   "source": [
    "using Flux, Flux.Data.MNIST\n",
    "using Flux: onehotbatch, argmax, crossentropy, throttle\n",
    "using Base.Iterators: repeated\n",
    "using FluxExtensions\n",
    "using MLBase: roc, correctrate, precision, recall, f1score, false_positive_rate, false_negative_rate\n",
    "\n",
    "push!(LOAD_PATH, \"../\", \"/home/jan/dev/anomaly detection/anomaly_detection/src\")\n",
    "using KNNmem\n",
    "using AnomalyDetection\n",
    "\n",
    "include(\"autoencoder_with_memory.jl\");"
   ]
  },
  {
   "cell_type": "code",
   "execution_count": null,
   "metadata": {},
   "outputs": [],
   "source": [
    "# Prepare data\n",
    "\n",
    "dataPath = \"/home/jan/dev/data/loda/public/datasets/numerical\"\n",
    "allData = AnomalyDetection.loaddata(dataPath)\n",
    "\n",
    "dataset = allData[\"abalone\"]\n",
    "train, test, clusterdness = AnomalyDetection.makeset(dataset, 0.9, \"normal\", 0.1, \"high\")\n",
    "inputSize = size(train.data, 1)"
   ]
  },
  {
   "cell_type": "code",
   "execution_count": null,
   "metadata": {},
   "outputs": [],
   "source": [
    "\n",
    "\n"
   ]
  }
 ],
 "metadata": {
  "kernelspec": {
   "display_name": "Julia 0.6.2",
   "language": "julia",
   "name": "julia-0.6"
  },
  "language_info": {
   "file_extension": ".jl",
   "mimetype": "application/julia",
   "name": "julia",
   "version": "0.6.2"
  }
 },
 "nbformat": 4,
 "nbformat_minor": 2
}
